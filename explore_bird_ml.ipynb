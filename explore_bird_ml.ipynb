{
    "cells": [
        {
            "cell_type": "markdown",
            "metadata": {},
            "source": [
                "# Note!\n",
                "This is a almost cell-by-cell copy of the work done by Aaron Schlegel. I practically don't own any of the work here.\n",
                "See the original posts here:\n",
                "\n",
                "[Part 1: Extraction and Feature Engineering](https://aaronschlegel.me/extraction-feature-engineering-aac-data-requests-pandas.html)\n",
                "\n",
                "[Part 2: Exploratory Data Analysis](https://aaronschlegel.me/exploratory-data-analysis-shelter-cat-outcomes-pandas-seaborn.html)\n",
                "\n",
                "[Part 3: Machine Learning for Outcome Prediction](https://aaronschlegel.me/predict-shelter-cat-outcomes-scikit-learn-machine-learning.html)\n"
            ]
        },
        {
            "cell_type": "code",
            "execution_count": 1,
            "metadata": {},
            "outputs": [],
            "source": [
                "import numpy as np\n",
                "import pandas as pd\n",
                "import matplotlib.pyplot as plt\n",
                "import plotly.express as px\n",
                "\n",
                "import re\n",
                "from datetime import datetime, timedelta"
            ]
        },
        {
            "cell_type": "code",
            "execution_count": 2,
            "metadata": {},
            "outputs": [
                {
                    "data": {
                        "text/html": [
                            "<div>\n",
                            "<style scoped>\n",
                            "    .dataframe tbody tr th:only-of-type {\n",
                            "        vertical-align: middle;\n",
                            "    }\n",
                            "\n",
                            "    .dataframe tbody tr th {\n",
                            "        vertical-align: top;\n",
                            "    }\n",
                            "\n",
                            "    .dataframe thead th {\n",
                            "        text-align: right;\n",
                            "    }\n",
                            "</style>\n",
                            "<table border=\"1\" class=\"dataframe\">\n",
                            "  <thead>\n",
                            "    <tr style=\"text-align: right;\">\n",
                            "      <th></th>\n",
                            "      <th>age_upon_outcome</th>\n",
                            "      <th>animal_id</th>\n",
                            "      <th>animal_type</th>\n",
                            "      <th>breed</th>\n",
                            "      <th>color</th>\n",
                            "      <th>date_of_birth</th>\n",
                            "      <th>datetime</th>\n",
                            "      <th>monthyear</th>\n",
                            "      <th>name</th>\n",
                            "      <th>outcome_subtype</th>\n",
                            "      <th>outcome_type</th>\n",
                            "      <th>sex_upon_outcome</th>\n",
                            "    </tr>\n",
                            "  </thead>\n",
                            "  <tbody>\n",
                            "    <tr>\n",
                            "      <th>1294</th>\n",
                            "      <td>2 months</td>\n",
                            "      <td>A683716</td>\n",
                            "      <td>Bird</td>\n",
                            "      <td>Chicken</td>\n",
                            "      <td>Brown/Yellow</td>\n",
                            "      <td>2014-05-14</td>\n",
                            "      <td>2014-07-16 13:03:00</td>\n",
                            "      <td>2014-07-16 13:03:00</td>\n",
                            "      <td>NaN</td>\n",
                            "      <td>Partner</td>\n",
                            "      <td>Transfer</td>\n",
                            "      <td>Intact Female</td>\n",
                            "    </tr>\n",
                            "    <tr>\n",
                            "      <th>1347</th>\n",
                            "      <td>1 year</td>\n",
                            "      <td>A666594</td>\n",
                            "      <td>Bird</td>\n",
                            "      <td>Parakeet Mix</td>\n",
                            "      <td>Green</td>\n",
                            "      <td>2012-11-04</td>\n",
                            "      <td>2013-11-10 16:36:00</td>\n",
                            "      <td>2013-11-10 16:36:00</td>\n",
                            "      <td>NaN</td>\n",
                            "      <td>Partner</td>\n",
                            "      <td>Transfer</td>\n",
                            "      <td>Intact Male</td>\n",
                            "    </tr>\n",
                            "    <tr>\n",
                            "      <th>1563</th>\n",
                            "      <td>2 years</td>\n",
                            "      <td>A677677</td>\n",
                            "      <td>Bird</td>\n",
                            "      <td>Bantam Mix</td>\n",
                            "      <td>White</td>\n",
                            "      <td>2012-04-25</td>\n",
                            "      <td>2014-04-29 11:29:00</td>\n",
                            "      <td>2014-04-29 11:29:00</td>\n",
                            "      <td>NaN</td>\n",
                            "      <td>NaN</td>\n",
                            "      <td>Adoption</td>\n",
                            "      <td>Intact Male</td>\n",
                            "    </tr>\n",
                            "    <tr>\n",
                            "      <th>1617</th>\n",
                            "      <td>2 weeks</td>\n",
                            "      <td>A680862</td>\n",
                            "      <td>Bird</td>\n",
                            "      <td>Duck</td>\n",
                            "      <td>Yellow/Black</td>\n",
                            "      <td>2014-05-25</td>\n",
                            "      <td>2014-06-10 00:00:00</td>\n",
                            "      <td>2014-06-10 00:00:00</td>\n",
                            "      <td>NaN</td>\n",
                            "      <td>Partner</td>\n",
                            "      <td>Transfer</td>\n",
                            "      <td>Unknown</td>\n",
                            "    </tr>\n",
                            "    <tr>\n",
                            "      <th>1655</th>\n",
                            "      <td>1 year</td>\n",
                            "      <td>A674618</td>\n",
                            "      <td>Bird</td>\n",
                            "      <td>Lark Mix</td>\n",
                            "      <td>Brown/Black</td>\n",
                            "      <td>2013-03-15</td>\n",
                            "      <td>2014-03-15 17:54:00</td>\n",
                            "      <td>2014-03-15 17:54:00</td>\n",
                            "      <td>NaN</td>\n",
                            "      <td>Suffering</td>\n",
                            "      <td>Euthanasia</td>\n",
                            "      <td>Unknown</td>\n",
                            "    </tr>\n",
                            "  </tbody>\n",
                            "</table>\n",
                            "</div>"
                        ],
                        "text/plain": [
                            "     age_upon_outcome animal_id animal_type         breed         color  \\\n",
                            "1294         2 months   A683716        Bird       Chicken  Brown/Yellow   \n",
                            "1347           1 year   A666594        Bird  Parakeet Mix         Green   \n",
                            "1563          2 years   A677677        Bird    Bantam Mix         White   \n",
                            "1617          2 weeks   A680862        Bird          Duck  Yellow/Black   \n",
                            "1655           1 year   A674618        Bird      Lark Mix   Brown/Black   \n",
                            "\n",
                            "     date_of_birth            datetime           monthyear name  \\\n",
                            "1294    2014-05-14 2014-07-16 13:03:00 2014-07-16 13:03:00  NaN   \n",
                            "1347    2012-11-04 2013-11-10 16:36:00 2013-11-10 16:36:00  NaN   \n",
                            "1563    2012-04-25 2014-04-29 11:29:00 2014-04-29 11:29:00  NaN   \n",
                            "1617    2014-05-25 2014-06-10 00:00:00 2014-06-10 00:00:00  NaN   \n",
                            "1655    2013-03-15 2014-03-15 17:54:00 2014-03-15 17:54:00  NaN   \n",
                            "\n",
                            "     outcome_subtype outcome_type sex_upon_outcome  \n",
                            "1294         Partner     Transfer    Intact Female  \n",
                            "1347         Partner     Transfer      Intact Male  \n",
                            "1563             NaN     Adoption      Intact Male  \n",
                            "1617         Partner     Transfer          Unknown  \n",
                            "1655       Suffering   Euthanasia          Unknown  "
                        ]
                    },
                    "execution_count": 2,
                    "metadata": {},
                    "output_type": "execute_result"
                }
            ],
            "source": [
                "df = pd.read_csv('aac_shelter_outcomes.csv', parse_dates=['date_of_birth','datetime','monthyear'])\n",
                "birds_df = df[df.animal_type == 'Bird']\n",
                "birds_df.head()"
            ]
        },
        {
            "cell_type": "code",
            "execution_count": 3,
            "metadata": {},
            "outputs": [
                {
                    "name": "stderr",
                    "output_type": "stream",
                    "text": [
                        "<ipython-input-3-ac01af068159>:1: SettingWithCopyWarning: \n",
                        "A value is trying to be set on a copy of a slice from a DataFrame.\n",
                        "Try using .loc[row_indexer,col_indexer] = value instead\n",
                        "\n",
                        "See the caveats in the documentation: https://pandas.pydata.org/pandas-docs/stable/user_guide/indexing.html#returning-a-view-versus-a-copy\n",
                        "  birds_df['age'] = (birds_df.datetime - birds_df.date_of_birth).dt.days\n"
                    ]
                },
                {
                    "data": {
                        "text/plain": [
                            "<AxesSubplot:>"
                        ]
                    },
                    "execution_count": 3,
                    "metadata": {},
                    "output_type": "execute_result"
                },
                {
                    "data": {
                        "image/png": "[encoded data removed]",
                        "text/plain": [
                            "<Figure size 432x288 with 1 Axes>"
                        ]
                    },
                    "metadata": {
                        "needs_background": "light"
                    },
                    "output_type": "display_data"
                }
            ],
            "source": [
                "birds_df['age'] = (birds_df.datetime - birds_df.date_of_birth).dt.days\n",
                "birds_df.age.hist()"
            ]
        },
        {
            "cell_type": "code",
            "execution_count": 4,
            "metadata": {},
            "outputs": [
                {
                    "name": "stderr",
                    "output_type": "stream",
                    "text": [
                        "<ipython-input-4-aa86ee821095>:1: SettingWithCopyWarning: \n",
                        "A value is trying to be set on a copy of a slice from a DataFrame.\n",
                        "Try using .loc[row_indexer,col_indexer] = value instead\n",
                        "\n",
                        "See the caveats in the documentation: https://pandas.pydata.org/pandas-docs/stable/user_guide/indexing.html#returning-a-view-versus-a-copy\n",
                        "  birds_df['puppy'] = birds_df.age <= 365\n"
                    ]
                }
            ],
            "source": [
                "birds_df['puppy'] = birds_df.age <= 365\n"
            ]
        },
        {
            "cell_type": "code",
            "execution_count": 5,
            "metadata": {},
            "outputs": [
                {
                    "data": {
                        "text/plain": [
                            "Adoption           114\n",
                            "Transfer            92\n",
                            "Euthanasia          85\n",
                            "Disposal            22\n",
                            "Return to Owner      9\n",
                            "Relocate             7\n",
                            "Died                 4\n",
                            "Missing              1\n",
                            "Name: outcome_type, dtype: int64"
                        ]
                    },
                    "execution_count": 5,
                    "metadata": {},
                    "output_type": "execute_result"
                }
            ],
            "source": [
                "birds_df.outcome_type.value_counts(dropna=False)"
            ]
        },
        {
            "cell_type": "code",
            "execution_count": 6,
            "metadata": {},
            "outputs": [
                {
                    "name": "stderr",
                    "output_type": "stream",
                    "text": [
                        "<ipython-input-6-3ff4540800b2>:1: SettingWithCopyWarning: \n",
                        "A value is trying to be set on a copy of a slice from a DataFrame.\n",
                        "Try using .loc[row_indexer,col_indexer] = value instead\n",
                        "\n",
                        "See the caveats in the documentation: https://pandas.pydata.org/pandas-docs/stable/user_guide/indexing.html#returning-a-view-versus-a-copy\n",
                        "  birds_df['dob_year'] = birds_df['date_of_birth'].dt.year\n",
                        "<ipython-input-6-3ff4540800b2>:2: SettingWithCopyWarning: \n",
                        "A value is trying to be set on a copy of a slice from a DataFrame.\n",
                        "Try using .loc[row_indexer,col_indexer] = value instead\n",
                        "\n",
                        "See the caveats in the documentation: https://pandas.pydata.org/pandas-docs/stable/user_guide/indexing.html#returning-a-view-versus-a-copy\n",
                        "  birds_df['dob_month'] = birds_df['date_of_birth'].dt.month\n",
                        "<ipython-input-6-3ff4540800b2>:3: SettingWithCopyWarning: \n",
                        "A value is trying to be set on a copy of a slice from a DataFrame.\n",
                        "Try using .loc[row_indexer,col_indexer] = value instead\n",
                        "\n",
                        "See the caveats in the documentation: https://pandas.pydata.org/pandas-docs/stable/user_guide/indexing.html#returning-a-view-versus-a-copy\n",
                        "  birds_df['dob_monthyear'] = pd.to_datetime(\n",
                        "<ipython-input-6-3ff4540800b2>:6: SettingWithCopyWarning: \n",
                        "A value is trying to be set on a copy of a slice from a DataFrame.\n",
                        "Try using .loc[row_indexer,col_indexer] = value instead\n",
                        "\n",
                        "See the caveats in the documentation: https://pandas.pydata.org/pandas-docs/stable/user_guide/indexing.html#returning-a-view-versus-a-copy\n",
                        "  birds_df['outcome_month'] = birds_df['datetime'].dt.month\n",
                        "<ipython-input-6-3ff4540800b2>:7: SettingWithCopyWarning: \n",
                        "A value is trying to be set on a copy of a slice from a DataFrame.\n",
                        "Try using .loc[row_indexer,col_indexer] = value instead\n",
                        "\n",
                        "See the caveats in the documentation: https://pandas.pydata.org/pandas-docs/stable/user_guide/indexing.html#returning-a-view-versus-a-copy\n",
                        "  birds_df['outcome_year'] = birds_df['datetime'].dt.year\n",
                        "<ipython-input-6-3ff4540800b2>:8: SettingWithCopyWarning: \n",
                        "A value is trying to be set on a copy of a slice from a DataFrame.\n",
                        "Try using .loc[row_indexer,col_indexer] = value instead\n",
                        "\n",
                        "See the caveats in the documentation: https://pandas.pydata.org/pandas-docs/stable/user_guide/indexing.html#returning-a-view-versus-a-copy\n",
                        "  birds_df['outcome_weekday'] = birds_df['datetime'].dt.weekday\n",
                        "<ipython-input-6-3ff4540800b2>:9: SettingWithCopyWarning: \n",
                        "A value is trying to be set on a copy of a slice from a DataFrame.\n",
                        "Try using .loc[row_indexer,col_indexer] = value instead\n",
                        "\n",
                        "See the caveats in the documentation: https://pandas.pydata.org/pandas-docs/stable/user_guide/indexing.html#returning-a-view-versus-a-copy\n",
                        "  birds_df['outcome_hour'] = birds_df['datetime'].dt.hour\n"
                    ]
                }
            ],
            "source": [
                "birds_df['dob_year'] = birds_df['date_of_birth'].dt.year\n",
                "birds_df['dob_month'] = birds_df['date_of_birth'].dt.month\n",
                "birds_df['dob_monthyear'] = pd.to_datetime(\n",
                "    birds_df['monthyear']).dt.to_period('M')\n",
                "\n",
                "birds_df['outcome_month'] = birds_df['datetime'].dt.month\n",
                "birds_df['outcome_year'] = birds_df['datetime'].dt.year\n",
                "birds_df['outcome_weekday'] = birds_df['datetime'].dt.weekday\n",
                "birds_df['outcome_hour'] = birds_df['datetime'].dt.hour\n"
            ]
        },
        {
            "cell_type": "code",
            "execution_count": 7,
            "metadata": {},
            "outputs": [
                {
                    "data": {
                        "text/plain": [
                            "Chicken Mix         113\n",
                            "Chicken              22\n",
                            "Parakeet Mix         17\n",
                            "Duck Mix             15\n",
                            "Dove Mix             15\n",
                            "Duck                 13\n",
                            "Pigeon Mix           13\n",
                            "Cockatiel Mix         8\n",
                            "Bantam Mix            8\n",
                            "Grackle Mix           8\n",
                            "Pigeon                6\n",
                            "Parakeet              6\n",
                            "Turkey Mix            5\n",
                            "Owl Mix               4\n",
                            "Parrot Mix            4\n",
                            "Hawk                  4\n",
                            "Quaker Mix            4\n",
                            "Grackle               4\n",
                            "Sparrow Mix           4\n",
                            "Rhode Island Mix      3\n",
                            "Cockatoo              3\n",
                            "Heron Mix             3\n",
                            "Peafowl               3\n",
                            "Dove                  3\n",
                            "Mockingbird Mix       3\n",
                            "Bluebird Mix          3\n",
                            "Muscovy Mix           2\n",
                            "Muscovy               2\n",
                            "Heron                 2\n",
                            "Quaker                2\n",
                            "Finch                 2\n",
                            "Parrot                2\n",
                            "Peafowl Mix           2\n",
                            "Conure                2\n",
                            "Mockingbird           1\n",
                            "Owl                   1\n",
                            "Nuthatch Mix          1\n",
                            "Cockatoo Mix          1\n",
                            "African Mix           1\n",
                            "Leghorn Mix           1\n",
                            "Pheasant Mix          1\n",
                            "Vulture Mix           1\n",
                            "Conure Mix            1\n",
                            "Wren Mix              1\n",
                            "Lovebird Mix          1\n",
                            "Lark Mix              1\n",
                            "Budgerigar            1\n",
                            "Hawk Mix              1\n",
                            "Sparrow               1\n",
                            "Goose Mix             1\n",
                            "Crow Mix              1\n",
                            "Guinea Mix            1\n",
                            "Bunting               1\n",
                            "Barred Rock Mix       1\n",
                            "Song Bird Mix         1\n",
                            "Cockatiel             1\n",
                            "Catbird Mix           1\n",
                            "Silkie Mix            1\n",
                            "Name: breed, dtype: int64"
                        ]
                    },
                    "execution_count": 7,
                    "metadata": {},
                    "output_type": "execute_result"
                }
            ],
            "source": [
                "birds_df['breed'].value_counts()"
            ]
        },
        {
            "cell_type": "code",
            "execution_count": 8,
            "metadata": {},
            "outputs": [
                {
                    "data": {
                        "text/plain": [
                            "{'Chicken Mix': 113,\n",
                            " 'Chicken': 22,\n",
                            " 'Parakeet Mix': 17,\n",
                            " 'Duck Mix': 15,\n",
                            " 'Dove Mix': 15,\n",
                            " 'Duck': 13,\n",
                            " 'Pigeon Mix': 13,\n",
                            " 'Cockatiel Mix': 8,\n",
                            " 'Bantam Mix': 8,\n",
                            " 'Grackle Mix': 8,\n",
                            " 'Pigeon': 6,\n",
                            " 'Parakeet': 6,\n",
                            " 'Turkey Mix': 5,\n",
                            " 'Owl Mix': 4,\n",
                            " 'Parrot Mix': 4,\n",
                            " 'Hawk': 4,\n",
                            " 'Quaker Mix': 4,\n",
                            " 'Grackle': 4,\n",
                            " 'Sparrow Mix': 4,\n",
                            " 'Rhode Island Mix': 3,\n",
                            " 'Cockatoo': 3,\n",
                            " 'Heron Mix': 3,\n",
                            " 'Peafowl': 3,\n",
                            " 'Dove': 3,\n",
                            " 'Mockingbird Mix': 3,\n",
                            " 'Bluebird Mix': 3,\n",
                            " 'Muscovy Mix': 2,\n",
                            " 'Muscovy': 2,\n",
                            " 'Heron': 2,\n",
                            " 'Quaker': 2,\n",
                            " 'Finch': 2,\n",
                            " 'Parrot': 2,\n",
                            " 'Peafowl Mix': 2,\n",
                            " 'Conure': 2,\n",
                            " 'Mockingbird': 1,\n",
                            " 'Owl': 1,\n",
                            " 'Nuthatch Mix': 1,\n",
                            " 'Cockatoo Mix': 1,\n",
                            " 'African Mix': 1,\n",
                            " 'Leghorn Mix': 1,\n",
                            " 'Pheasant Mix': 1,\n",
                            " 'Vulture Mix': 1,\n",
                            " 'Conure Mix': 1,\n",
                            " 'Wren Mix': 1,\n",
                            " 'Lovebird Mix': 1,\n",
                            " 'Lark Mix': 1,\n",
                            " 'Budgerigar': 1,\n",
                            " 'Hawk Mix': 1,\n",
                            " 'Sparrow': 1,\n",
                            " 'Goose Mix': 1,\n",
                            " 'Crow Mix': 1,\n",
                            " 'Guinea Mix': 1,\n",
                            " 'Bunting': 1,\n",
                            " 'Barred Rock Mix': 1,\n",
                            " 'Song Bird Mix': 1,\n",
                            " 'Cockatiel': 1,\n",
                            " 'Catbird Mix': 1,\n",
                            " 'Silkie Mix': 1}"
                        ]
                    },
                    "execution_count": 8,
                    "metadata": {},
                    "output_type": "execute_result"
                }
            ],
            "source": [
                "{k: v for k, v in zip(birds_df['breed'].value_counts().index, birds_df['breed'].value_counts())}\n"
            ]
        },
        {
            "cell_type": "code",
            "execution_count": 9,
            "metadata": {},
            "outputs": [
                {
                    "data": {
                        "text/plain": [
                            "(58, 7)"
                        ]
                    },
                    "execution_count": 9,
                    "metadata": {},
                    "output_type": "execute_result"
                }
            ],
            "source": [
                "birds_df.breed.value_counts()[birds_df.breed.value_counts(\n",
                ") > 10].sum() / len(birds_df)\n",
                "len(birds_df.breed.unique()), len(birds_df.breed.value_counts()[birds_df.breed.value_counts(\n",
                ") > 10])\n"
            ]
        },
        {
            "cell_type": "code",
            "execution_count": 10,
            "metadata": {},
            "outputs": [
                {
                    "name": "stderr",
                    "output_type": "stream",
                    "text": [
                        "<ipython-input-10-983271451ac8>:1: SettingWithCopyWarning: \n",
                        "A value is trying to be set on a copy of a slice from a DataFrame.\n",
                        "Try using .loc[row_indexer,col_indexer] = value instead\n",
                        "\n",
                        "See the caveats in the documentation: https://pandas.pydata.org/pandas-docs/stable/user_guide/indexing.html#returning-a-view-versus-a-copy\n",
                        "  birds_df['breed'] = birds_df['breed'].str.lower().str.replace('mix', '').str.strip()\n"
                    ]
                }
            ],
            "source": [
                "birds_df['breed'] = birds_df['breed'].str.lower().str.replace('mix', '').str.strip()"
            ]
        },
        {
            "cell_type": "code",
            "execution_count": 11,
            "metadata": {},
            "outputs": [
                {
                    "data": {
                        "text/plain": [
                            "1294     Brown/Yellow\n",
                            "1347            Green\n",
                            "1563            White\n",
                            "1617     Yellow/Black\n",
                            "1655      Brown/Black\n",
                            "             ...     \n",
                            "77054     White/Green\n",
                            "77868         Tan/Red\n",
                            "77976       White/Red\n",
                            "78118     Black/White\n",
                            "78206      Gold/Brown\n",
                            "Name: color, Length: 334, dtype: object"
                        ]
                    },
                    "execution_count": 11,
                    "metadata": {},
                    "output_type": "execute_result"
                }
            ],
            "source": [
                "birds_df.color"
            ]
        },
        {
            "cell_type": "code",
            "execution_count": 12,
            "metadata": {},
            "outputs": [
                {
                    "name": "stderr",
                    "output_type": "stream",
                    "text": [
                        "<ipython-input-12-02b447d7a196>:1: SettingWithCopyWarning: \n",
                        "A value is trying to be set on a copy of a slice from a DataFrame.\n",
                        "Try using .loc[row_indexer,col_indexer] = value instead\n",
                        "\n",
                        "See the caveats in the documentation: https://pandas.pydata.org/pandas-docs/stable/user_guide/indexing.html#returning-a-view-versus-a-copy\n",
                        "  birds_df['color'] = [re.sub(' */ *', '/', s).lower() for s in birds_df['color']]\n",
                        "<ipython-input-12-02b447d7a196>:4: SettingWithCopyWarning: \n",
                        "A value is trying to be set on a copy of a slice from a DataFrame.\n",
                        "Try using .loc[row_indexer,col_indexer] = value instead\n",
                        "\n",
                        "See the caveats in the documentation: https://pandas.pydata.org/pandas-docs/stable/user_guide/indexing.html#returning-a-view-versus-a-copy\n",
                        "  birds_df['color1'] = new_cols['color1']\n",
                        "<ipython-input-12-02b447d7a196>:5: SettingWithCopyWarning: \n",
                        "A value is trying to be set on a copy of a slice from a DataFrame.\n",
                        "Try using .loc[row_indexer,col_indexer] = value instead\n",
                        "\n",
                        "See the caveats in the documentation: https://pandas.pydata.org/pandas-docs/stable/user_guide/indexing.html#returning-a-view-versus-a-copy\n",
                        "  birds_df['color2'] = new_cols['color2']\n"
                    ]
                }
            ],
            "source": [
                "birds_df['color'] = [re.sub(' */ *', '/', s).lower() for s in birds_df['color']]\n",
                "new_cols = birds_df['color'].str.split(\n",
                "    '/', expand=True).rename(columns={0: 'color1', 1: 'color2'})\n",
                "birds_df['color1'] = new_cols['color1']\n",
                "birds_df['color2'] = new_cols['color2']"
            ]
        },
        {
            "cell_type": "code",
            "execution_count": 13,
            "metadata": {},
            "outputs": [],
            "source": [
                "birds_df.to_csv('birds_df_clean.csv', index=False, encoding='utf-8')"
            ]
        },
        {
            "cell_type": "code",
            "execution_count": null,
            "metadata": {},
            "outputs": [],
            "source": []
        }
    ],
    "metadata": {
        "kernelspec": {
            "display_name": "Python 3.8.1 64-bit",
            "language": "python",
            "name": "python3"
        },
        "language_info": {
            "codemirror_mode": {
                "name": "ipython",
                "version": 3
            },
            "file_extension": ".py",
            "mimetype": "text/x-python",
            "name": "python",
            "nbconvert_exporter": "python",
            "pygments_lexer": "ipython3",
            "version": "3.8.1"
        },
        "orig_nbformat": 4,
        "vscode": {
            "interpreter": {
                "hash": "aee8b7b246df8f9039afb4144a1f6fd8d2ca17a180786b69acc140d282b71a49"
            }
        }
    },
    "nbformat": 4,
    "nbformat_minor": 2
}
