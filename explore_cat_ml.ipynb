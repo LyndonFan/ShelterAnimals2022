{
 "cells": [
  {
   "cell_type": "markdown",
   "metadata": {},
   "source": [
    "# Note!\n",
    "This is a almost cell-by-cell copy of the work done by Aaron Schlegel. I practically don't own any of the work here.\n",
    "See the original posts here:\n",
    "\n",
    "[Part 1: Extraction and Feature Engineering](https://aaronschlegel.me/extraction-feature-engineering-aac-data-requests-pandas.html)\n",
    "\n",
    "[Part 2: Exploratory Data Analysis](https://aaronschlegel.me/exploratory-data-analysis-shelter-cat-outcomes-pandas-seaborn.html)\n",
    "\n",
    "[Part 3: Machine Learning for Outcome Prediction](https://aaronschlegel.me/predict-shelter-cat-outcomes-scikit-learn-machine-learning.html)\n"
   ]
  },
  {
   "cell_type": "code",
   "execution_count": 1,
   "metadata": {},
   "outputs": [],
   "source": [
    "import numpy as np\n",
    "import pandas as pd\n",
    "import matplotlib.pyplot as plt\n",
    "import plotly.express as px\n",
    "\n",
    "import re\n",
    "from datetime import datetime, timedelta"
   ]
  },
  {
   "cell_type": "code",
   "execution_count": 2,
   "metadata": {},
   "outputs": [
    {
     "data": {
      "text/html": [
       "<div>\n",
       "<style scoped>\n",
       "    .dataframe tbody tr th:only-of-type {\n",
       "        vertical-align: middle;\n",
       "    }\n",
       "\n",
       "    .dataframe tbody tr th {\n",
       "        vertical-align: top;\n",
       "    }\n",
       "\n",
       "    .dataframe thead th {\n",
       "        text-align: right;\n",
       "    }\n",
       "</style>\n",
       "<table border=\"1\" class=\"dataframe\">\n",
       "  <thead>\n",
       "    <tr style=\"text-align: right;\">\n",
       "      <th></th>\n",
       "      <th>age_upon_outcome</th>\n",
       "      <th>animal_id</th>\n",
       "      <th>animal_type</th>\n",
       "      <th>breed</th>\n",
       "      <th>color</th>\n",
       "      <th>date_of_birth</th>\n",
       "      <th>datetime</th>\n",
       "      <th>monthyear</th>\n",
       "      <th>name</th>\n",
       "      <th>outcome_subtype</th>\n",
       "      <th>outcome_type</th>\n",
       "      <th>sex_upon_outcome</th>\n",
       "    </tr>\n",
       "  </thead>\n",
       "  <tbody>\n",
       "    <tr>\n",
       "      <th>0</th>\n",
       "      <td>2 weeks</td>\n",
       "      <td>A684346</td>\n",
       "      <td>Cat</td>\n",
       "      <td>Domestic Shorthair Mix</td>\n",
       "      <td>Orange Tabby</td>\n",
       "      <td>2014-07-07</td>\n",
       "      <td>2014-07-22 16:04:00</td>\n",
       "      <td>2014-07-22 16:04:00</td>\n",
       "      <td>NaN</td>\n",
       "      <td>Partner</td>\n",
       "      <td>Transfer</td>\n",
       "      <td>Intact Male</td>\n",
       "    </tr>\n",
       "    <tr>\n",
       "      <th>8</th>\n",
       "      <td>1 month</td>\n",
       "      <td>A685067</td>\n",
       "      <td>Cat</td>\n",
       "      <td>Domestic Shorthair Mix</td>\n",
       "      <td>Blue Tabby/White</td>\n",
       "      <td>2014-06-16</td>\n",
       "      <td>2014-08-14 18:45:00</td>\n",
       "      <td>2014-08-14 18:45:00</td>\n",
       "      <td>Lucy</td>\n",
       "      <td>NaN</td>\n",
       "      <td>Adoption</td>\n",
       "      <td>Intact Female</td>\n",
       "    </tr>\n",
       "    <tr>\n",
       "      <th>9</th>\n",
       "      <td>3 months</td>\n",
       "      <td>A678580</td>\n",
       "      <td>Cat</td>\n",
       "      <td>Domestic Shorthair Mix</td>\n",
       "      <td>White/Black</td>\n",
       "      <td>2014-03-26</td>\n",
       "      <td>2014-06-29 17:45:00</td>\n",
       "      <td>2014-06-29 17:45:00</td>\n",
       "      <td>*Frida</td>\n",
       "      <td>Offsite</td>\n",
       "      <td>Adoption</td>\n",
       "      <td>Spayed Female</td>\n",
       "    </tr>\n",
       "    <tr>\n",
       "      <th>10</th>\n",
       "      <td>1 year</td>\n",
       "      <td>A675405</td>\n",
       "      <td>Cat</td>\n",
       "      <td>Domestic Medium Hair Mix</td>\n",
       "      <td>Black/White</td>\n",
       "      <td>2013-03-27</td>\n",
       "      <td>2014-03-28 14:55:00</td>\n",
       "      <td>2014-03-28 14:55:00</td>\n",
       "      <td>Stella Luna</td>\n",
       "      <td>NaN</td>\n",
       "      <td>Return to Owner</td>\n",
       "      <td>Spayed Female</td>\n",
       "    </tr>\n",
       "    <tr>\n",
       "      <th>17</th>\n",
       "      <td>3 weeks</td>\n",
       "      <td>A670420</td>\n",
       "      <td>Cat</td>\n",
       "      <td>Domestic Shorthair Mix</td>\n",
       "      <td>Black/White</td>\n",
       "      <td>2013-12-16</td>\n",
       "      <td>2014-01-09 19:29:00</td>\n",
       "      <td>2014-01-09 19:29:00</td>\n",
       "      <td>NaN</td>\n",
       "      <td>Partner</td>\n",
       "      <td>Transfer</td>\n",
       "      <td>Intact Male</td>\n",
       "    </tr>\n",
       "  </tbody>\n",
       "</table>\n",
       "</div>"
      ],
      "text/plain": [
       "   age_upon_outcome animal_id animal_type                     breed  \\\n",
       "0           2 weeks   A684346         Cat    Domestic Shorthair Mix   \n",
       "8           1 month   A685067         Cat    Domestic Shorthair Mix   \n",
       "9          3 months   A678580         Cat    Domestic Shorthair Mix   \n",
       "10           1 year   A675405         Cat  Domestic Medium Hair Mix   \n",
       "17          3 weeks   A670420         Cat    Domestic Shorthair Mix   \n",
       "\n",
       "               color date_of_birth            datetime           monthyear  \\\n",
       "0       Orange Tabby    2014-07-07 2014-07-22 16:04:00 2014-07-22 16:04:00   \n",
       "8   Blue Tabby/White    2014-06-16 2014-08-14 18:45:00 2014-08-14 18:45:00   \n",
       "9        White/Black    2014-03-26 2014-06-29 17:45:00 2014-06-29 17:45:00   \n",
       "10       Black/White    2013-03-27 2014-03-28 14:55:00 2014-03-28 14:55:00   \n",
       "17       Black/White    2013-12-16 2014-01-09 19:29:00 2014-01-09 19:29:00   \n",
       "\n",
       "           name outcome_subtype     outcome_type sex_upon_outcome  \n",
       "0           NaN         Partner         Transfer      Intact Male  \n",
       "8          Lucy             NaN         Adoption    Intact Female  \n",
       "9        *Frida         Offsite         Adoption    Spayed Female  \n",
       "10  Stella Luna             NaN  Return to Owner    Spayed Female  \n",
       "17          NaN         Partner         Transfer      Intact Male  "
      ]
     },
     "execution_count": 2,
     "metadata": {},
     "output_type": "execute_result"
    }
   ],
   "source": [
    "df = pd.read_csv('aac_shelter_outcomes.csv', parse_dates=['date_of_birth','datetime','monthyear'])\n",
    "cats_df = df[df.animal_type == 'Cat']\n",
    "cats_df.head()"
   ]
  },
  {
   "cell_type": "code",
   "execution_count": 3,
   "metadata": {},
   "outputs": [
    {
     "name": "stderr",
     "output_type": "stream",
     "text": [
      "<ipython-input-3-b1975d747add>:1: SettingWithCopyWarning: \n",
      "A value is trying to be set on a copy of a slice from a DataFrame.\n",
      "Try using .loc[row_indexer,col_indexer] = value instead\n",
      "\n",
      "See the caveats in the documentation: https://pandas.pydata.org/pandas-docs/stable/user_guide/indexing.html#returning-a-view-versus-a-copy\n",
      "  cats_df['age'] = (cats_df.datetime - cats_df.date_of_birth).dt.days\n"
     ]
    },
    {
     "data": {
      "text/plain": [
       "<AxesSubplot:>"
      ]
     },
     "execution_count": 3,
     "metadata": {},
     "output_type": "execute_result"
    },
    {
     "data": {
      "image/png": "[encoded data removed]",
      "text/plain": [
       "<Figure size 432x288 with 1 Axes>"
      ]
     },
     "metadata": {
      "needs_background": "light"
     },
     "output_type": "display_data"
    }
   ],
   "source": [
    "cats_df['age'] = (cats_df.datetime - cats_df.date_of_birth).dt.days\n",
    "cats_df.age.hist()"
   ]
  },
  {
   "cell_type": "code",
   "execution_count": 4,
   "metadata": {},
   "outputs": [
    {
     "name": "stderr",
     "output_type": "stream",
     "text": [
      "<ipython-input-4-b64afa8822ad>:1: SettingWithCopyWarning: \n",
      "A value is trying to be set on a copy of a slice from a DataFrame.\n",
      "Try using .loc[row_indexer,col_indexer] = value instead\n",
      "\n",
      "See the caveats in the documentation: https://pandas.pydata.org/pandas-docs/stable/user_guide/indexing.html#returning-a-view-versus-a-copy\n",
      "  cats_df['kitten'] = cats_df.age <= 180\n"
     ]
    }
   ],
   "source": [
    "cats_df['kitten'] = cats_df.age <= 180\n"
   ]
  },
  {
   "cell_type": "code",
   "execution_count": 5,
   "metadata": {},
   "outputs": [
    {
     "data": {
      "text/plain": [
       "Transfer           13323\n",
       "Adoption           12732\n",
       "Euthanasia          1453\n",
       "Return to Owner     1431\n",
       "Died                 403\n",
       "Rto-Adopt             33\n",
       "Missing               28\n",
       "Disposal              16\n",
       "NaN                    3\n",
       "Name: outcome_type, dtype: int64"
      ]
     },
     "execution_count": 5,
     "metadata": {},
     "output_type": "execute_result"
    }
   ],
   "source": [
    "cats_df.outcome_type.value_counts(dropna=False)"
   ]
  },
  {
   "cell_type": "code",
   "execution_count": 6,
   "metadata": {},
   "outputs": [
    {
     "name": "stderr",
     "output_type": "stream",
     "text": [
      "<ipython-input-6-d261f503b523>:1: SettingWithCopyWarning: \n",
      "A value is trying to be set on a copy of a slice from a DataFrame.\n",
      "Try using .loc[row_indexer,col_indexer] = value instead\n",
      "\n",
      "See the caveats in the documentation: https://pandas.pydata.org/pandas-docs/stable/user_guide/indexing.html#returning-a-view-versus-a-copy\n",
      "  cats_df['dob_year'] = cats_df['date_of_birth'].dt.year\n",
      "<ipython-input-6-d261f503b523>:2: SettingWithCopyWarning: \n",
      "A value is trying to be set on a copy of a slice from a DataFrame.\n",
      "Try using .loc[row_indexer,col_indexer] = value instead\n",
      "\n",
      "See the caveats in the documentation: https://pandas.pydata.org/pandas-docs/stable/user_guide/indexing.html#returning-a-view-versus-a-copy\n",
      "  cats_df['dob_month'] = cats_df['date_of_birth'].dt.month\n",
      "<ipython-input-6-d261f503b523>:3: SettingWithCopyWarning: \n",
      "A value is trying to be set on a copy of a slice from a DataFrame.\n",
      "Try using .loc[row_indexer,col_indexer] = value instead\n",
      "\n",
      "See the caveats in the documentation: https://pandas.pydata.org/pandas-docs/stable/user_guide/indexing.html#returning-a-view-versus-a-copy\n",
      "  cats_df['dob_monthyear'] = pd.to_datetime(\n",
      "<ipython-input-6-d261f503b523>:6: SettingWithCopyWarning: \n",
      "A value is trying to be set on a copy of a slice from a DataFrame.\n",
      "Try using .loc[row_indexer,col_indexer] = value instead\n",
      "\n",
      "See the caveats in the documentation: https://pandas.pydata.org/pandas-docs/stable/user_guide/indexing.html#returning-a-view-versus-a-copy\n",
      "  cats_df['outcome_month'] = cats_df['datetime'].dt.month\n",
      "<ipython-input-6-d261f503b523>:7: SettingWithCopyWarning: \n",
      "A value is trying to be set on a copy of a slice from a DataFrame.\n",
      "Try using .loc[row_indexer,col_indexer] = value instead\n",
      "\n",
      "See the caveats in the documentation: https://pandas.pydata.org/pandas-docs/stable/user_guide/indexing.html#returning-a-view-versus-a-copy\n",
      "  cats_df['outcome_year'] = cats_df['datetime'].dt.year\n",
      "<ipython-input-6-d261f503b523>:8: SettingWithCopyWarning: \n",
      "A value is trying to be set on a copy of a slice from a DataFrame.\n",
      "Try using .loc[row_indexer,col_indexer] = value instead\n",
      "\n",
      "See the caveats in the documentation: https://pandas.pydata.org/pandas-docs/stable/user_guide/indexing.html#returning-a-view-versus-a-copy\n",
      "  cats_df['outcome_weekday'] = cats_df['datetime'].dt.weekday\n",
      "<ipython-input-6-d261f503b523>:9: SettingWithCopyWarning: \n",
      "A value is trying to be set on a copy of a slice from a DataFrame.\n",
      "Try using .loc[row_indexer,col_indexer] = value instead\n",
      "\n",
      "See the caveats in the documentation: https://pandas.pydata.org/pandas-docs/stable/user_guide/indexing.html#returning-a-view-versus-a-copy\n",
      "  cats_df['outcome_hour'] = cats_df['datetime'].dt.hour\n"
     ]
    }
   ],
   "source": [
    "cats_df['dob_year'] = cats_df['date_of_birth'].dt.year\n",
    "cats_df['dob_month'] = cats_df['date_of_birth'].dt.month\n",
    "cats_df['dob_monthyear'] = pd.to_datetime(\n",
    "    cats_df['monthyear']).dt.to_period('M')\n",
    "\n",
    "cats_df['outcome_month'] = cats_df['datetime'].dt.month\n",
    "cats_df['outcome_year'] = cats_df['datetime'].dt.year\n",
    "cats_df['outcome_weekday'] = cats_df['datetime'].dt.weekday\n",
    "cats_df['outcome_hour'] = cats_df['datetime'].dt.hour\n"
   ]
  },
  {
   "cell_type": "code",
   "execution_count": 7,
   "metadata": {},
   "outputs": [
    {
     "data": {
      "text/plain": [
       "Domestic Shorthair Mix                 23335\n",
       "Domestic Medium Hair Mix                2323\n",
       "Domestic Longhair Mix                   1228\n",
       "Siamese Mix                              998\n",
       "Domestic Shorthair                       386\n",
       "                                       ...  \n",
       "Domestic Shorthair/Manx                    1\n",
       "Ocicat Mix                                 1\n",
       "Manx/Siamese                               1\n",
       "Domestic Longhair/Domestic Longhair        1\n",
       "Domestic Shorthair/Abyssinian              1\n",
       "Name: breed, Length: 79, dtype: int64"
      ]
     },
     "execution_count": 7,
     "metadata": {},
     "output_type": "execute_result"
    }
   ],
   "source": [
    "cats_df['breed'].value_counts()"
   ]
  },
  {
   "cell_type": "code",
   "execution_count": 8,
   "metadata": {},
   "outputs": [
    {
     "name": "stderr",
     "output_type": "stream",
     "text": [
      "<ipython-input-8-843f71dc0208>:1: SettingWithCopyWarning: \n",
      "A value is trying to be set on a copy of a slice from a DataFrame.\n",
      "Try using .loc[row_indexer,col_indexer] = value instead\n",
      "\n",
      "See the caveats in the documentation: https://pandas.pydata.org/pandas-docs/stable/user_guide/indexing.html#returning-a-view-versus-a-copy\n",
      "  cats_df['breed'] = cats_df['breed'].str.lower().str.replace(\n"
     ]
    }
   ],
   "source": [
    "cats_df['breed'] = cats_df['breed'].str.lower().str.replace(\n",
    "    'mix', '').str.replace('medium hair', 'mediumhair').str.strip()"
   ]
  },
  {
   "cell_type": "code",
   "execution_count": 9,
   "metadata": {},
   "outputs": [],
   "source": [
    "cfa_breeds = ['Abyssinian', 'American Bobtail', 'American Curl', 'American Shorthair', 'American Wirehair',\n",
    "              'Balinese', 'Bengal', 'Birman', 'Bombay', 'British Shorthair', 'Burmese', 'Burmilla',\n",
    "              'Chartreux', 'Colorpoint Shorthair', 'Cornish Rex', 'Devon Rex', 'Egyptian Mau', 'European Burmese',\n",
    "              'Exotic', 'Havana Brown', 'Japanese Bobtail', 'Korat', 'LaPerm', 'Maine Coon', 'Manx',\n",
    "              'Norwegian Forest Cat', 'Ocicat', 'Oriental', 'Persian', 'Ragamuffin', 'Ragdoll', 'Russian Blue',\n",
    "              'Scottish Fold', 'Selkirk Rex', 'Siamese', 'Siberian', 'Singapura', 'Somali', 'Tonkinese',\n",
    "              'Turkish Angora', 'Turkish Van']\n",
    "\n",
    "cfa_breeds = [i.lower() for i in cfa_breeds]\n",
    "cfa_breeds = '|'.join(cfa_breeds)"
   ]
  },
  {
   "cell_type": "code",
   "execution_count": 11,
   "metadata": {},
   "outputs": [
    {
     "name": "stderr",
     "output_type": "stream",
     "text": [
      "<ipython-input-11-57c5bbcfe516>:2: SettingWithCopyWarning: \n",
      "A value is trying to be set on a copy of a slice from a DataFrame.\n",
      "Try using .loc[row_indexer,col_indexer] = value instead\n",
      "\n",
      "See the caveats in the documentation: https://pandas.pydata.org/pandas-docs/stable/user_guide/indexing.html#returning-a-view-versus-a-copy\n",
      "  cats_df['breed1'] = new_cols['breed1']\n",
      "<ipython-input-11-57c5bbcfe516>:3: SettingWithCopyWarning: \n",
      "A value is trying to be set on a copy of a slice from a DataFrame.\n",
      "Try using .loc[row_indexer,col_indexer] = value instead\n",
      "\n",
      "See the caveats in the documentation: https://pandas.pydata.org/pandas-docs/stable/user_guide/indexing.html#returning-a-view-versus-a-copy\n",
      "  cats_df['breed2'] = new_cols['breed2']\n",
      "<ipython-input-11-57c5bbcfe516>:5: SettingWithCopyWarning: \n",
      "A value is trying to be set on a copy of a slice from a DataFrame.\n",
      "Try using .loc[row_indexer,col_indexer] = value instead\n",
      "\n",
      "See the caveats in the documentation: https://pandas.pydata.org/pandas-docs/stable/user_guide/indexing.html#returning-a-view-versus-a-copy\n",
      "  cats_df['cfa_breed'] = (cats_df['breed1'].str.contains(cfa_breeds)) | \\\n",
      "<ipython-input-11-57c5bbcfe516>:8: SettingWithCopyWarning: \n",
      "A value is trying to be set on a copy of a slice from a DataFrame.\n",
      "Try using .loc[row_indexer,col_indexer] = value instead\n",
      "\n",
      "See the caveats in the documentation: https://pandas.pydata.org/pandas-docs/stable/user_guide/indexing.html#returning-a-view-versus-a-copy\n",
      "  cats_df['domestic_breed'] = (cats_df['breed1'].str.contains('domestic')) | \\\n"
     ]
    }
   ],
   "source": [
    "new_cols = cats_df['breed'].str.split('/', expand=True).rename(columns={0: 'breed1', 1: 'breed2'})\n",
    "cats_df['breed1'] = new_cols['breed1']\n",
    "cats_df['breed2'] = new_cols['breed2']\n",
    "\n",
    "cats_df['cfa_breed'] = (cats_df['breed1'].str.contains(cfa_breeds)) | \\\n",
    "                        (cats_df['breed2'].str.contains(cfa_breeds))\n",
    "\n",
    "cats_df['domestic_breed'] = (cats_df['breed1'].str.contains('domestic')) | \\\n",
    "                             (cats_df['breed2'].str.contains('domestic'))"
   ]
  },
  {
   "cell_type": "code",
   "execution_count": 12,
   "metadata": {},
   "outputs": [
    {
     "data": {
      "text/plain": [
       "Brown Tabby                 4445\n",
       "Black                       3847\n",
       "Black/White                 2804\n",
       "Brown Tabby/White           2338\n",
       "Orange Tabby                2180\n",
       "                            ... \n",
       "Brown Tabby/Orange Tabby       1\n",
       "Black Tiger/White              1\n",
       "Brown Tabby/Gray Tabby         1\n",
       "Orange Tabby/Apricot           1\n",
       "Blue Point/Cream               1\n",
       "Name: color, Length: 231, dtype: int64"
      ]
     },
     "execution_count": 12,
     "metadata": {},
     "output_type": "execute_result"
    }
   ],
   "source": [
    "cats_df['color'].value_counts()"
   ]
  },
  {
   "cell_type": "code",
   "execution_count": 13,
   "metadata": {},
   "outputs": [
    {
     "name": "stderr",
     "output_type": "stream",
     "text": [
      "<ipython-input-13-74aac3314909>:4: SettingWithCopyWarning: \n",
      "A value is trying to be set on a copy of a slice from a DataFrame.\n",
      "Try using .loc[row_indexer,col_indexer] = value instead\n",
      "\n",
      "See the caveats in the documentation: https://pandas.pydata.org/pandas-docs/stable/user_guide/indexing.html#returning-a-view-versus-a-copy\n",
      "  cats_df['color'] = cats_df['color'].str.lower()\n",
      "<ipython-input-13-74aac3314909>:5: SettingWithCopyWarning: \n",
      "A value is trying to be set on a copy of a slice from a DataFrame.\n",
      "Try using .loc[row_indexer,col_indexer] = value instead\n",
      "\n",
      "See the caveats in the documentation: https://pandas.pydata.org/pandas-docs/stable/user_guide/indexing.html#returning-a-view-versus-a-copy\n",
      "  cats_df['coat_pattern'] = cats_df['color'].str.extract(coat_reg, expand=False)\n",
      "<ipython-input-13-74aac3314909>:6: SettingWithCopyWarning: \n",
      "A value is trying to be set on a copy of a slice from a DataFrame.\n",
      "Try using .loc[row_indexer,col_indexer] = value instead\n",
      "\n",
      "See the caveats in the documentation: https://pandas.pydata.org/pandas-docs/stable/user_guide/indexing.html#returning-a-view-versus-a-copy\n",
      "  cats_df['color'] = cats_df['color'].str.replace(coat_reg, '').str.strip()\n"
     ]
    }
   ],
   "source": [
    "coat_patterns = ['tabby', 'tortie', 'tortoiseshell', 'calico', 'smoke', 'torbie',\n",
    "                 'colorpoint', 'point', 'brindle', 'agouti', 'bicolor', 'tricolor']\n",
    "coat_reg = '(' + '|'.join(coat_patterns) + ')'\n",
    "cats_df['color'] = cats_df['color'].str.lower()\n",
    "cats_df['coat_pattern'] = cats_df['color'].str.extract(coat_reg, expand=False)\n",
    "cats_df['color'] = cats_df['color'].str.replace(coat_reg, '').str.strip()"
   ]
  },
  {
   "cell_type": "code",
   "execution_count": 14,
   "metadata": {},
   "outputs": [
    {
     "name": "stderr",
     "output_type": "stream",
     "text": [
      "<ipython-input-14-2c29f2dcb4a2>:3: SettingWithCopyWarning: \n",
      "A value is trying to be set on a copy of a slice from a DataFrame.\n",
      "Try using .loc[row_indexer,col_indexer] = value instead\n",
      "\n",
      "See the caveats in the documentation: https://pandas.pydata.org/pandas-docs/stable/user_guide/indexing.html#returning-a-view-versus-a-copy\n",
      "  cats_df['color1'] = new_cols['color1']\n",
      "<ipython-input-14-2c29f2dcb4a2>:4: SettingWithCopyWarning: \n",
      "A value is trying to be set on a copy of a slice from a DataFrame.\n",
      "Try using .loc[row_indexer,col_indexer] = value instead\n",
      "\n",
      "See the caveats in the documentation: https://pandas.pydata.org/pandas-docs/stable/user_guide/indexing.html#returning-a-view-versus-a-copy\n",
      "  cats_df['color2'] = new_cols['color2']\n"
     ]
    }
   ],
   "source": [
    "new_cols = cats_df['color'].str.split(\n",
    "    '/', expand=True).rename(columns={0: 'color1', 1: 'color2'})\n",
    "cats_df['color1'] = new_cols['color1']\n",
    "cats_df['color2'] = new_cols['color2']\n",
    "\n",
    "cats_df = pd.concat([cats_df,\n",
    "                     ], axis=1)\n",
    "cats_df['color1'] = np.where(\n",
    "    cats_df['color1'] == '', 'Breed Specific', cats_df['color1'])\n",
    "cats_df['coat'] = np.where(\n",
    "    cats_df['color1'] == 'Breed Specific', cats_df['coat_pattern'], cats_df['color1'])\n"
   ]
  },
  {
   "cell_type": "code",
   "execution_count": 15,
   "metadata": {},
   "outputs": [],
   "source": [
    "cats_df.to_csv('cats_df_clean.csv', index=False, encoding='utf-8')"
   ]
  },
  {
   "cell_type": "code",
   "execution_count": null,
   "metadata": {},
   "outputs": [],
   "source": []
  }
 ],
 "metadata": {
  "kernelspec": {
   "display_name": "Python 3.8.1 64-bit",
   "language": "python",
   "name": "python3"
  },
  "language_info": {
   "codemirror_mode": {
    "name": "ipython",
    "version": 3
   },
   "file_extension": ".py",
   "mimetype": "text/x-python",
   "name": "python",
   "nbconvert_exporter": "python",
   "pygments_lexer": "ipython3",
   "version": "3.8.1"
  },
  "orig_nbformat": 4,
  "vscode": {
   "interpreter": {
    "hash": "aee8b7b246df8f9039afb4144a1f6fd8d2ca17a180786b69acc140d282b71a49"
   }
  }
 },
 "nbformat": 4,
 "nbformat_minor": 2
}
